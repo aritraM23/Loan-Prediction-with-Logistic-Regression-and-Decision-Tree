{
 "cells": [
  {
   "cell_type": "code",
   "execution_count": 65,
   "id": "13747c28",
   "metadata": {},
   "outputs": [],
   "source": [
    "import pandas as pd\n",
    "import numpy as np\n",
    "import seaborn as sns\n",
    "import matplotlib.pyplot as plt\n",
    "%matplotlib inline\n",
    "import warnings"
   ]
  },
  {
   "cell_type": "code",
   "execution_count": 66,
   "id": "5fd326ad",
   "metadata": {},
   "outputs": [
    {
     "data": {
      "text/html": [
       "<div>\n",
       "<style scoped>\n",
       "    .dataframe tbody tr th:only-of-type {\n",
       "        vertical-align: middle;\n",
       "    }\n",
       "\n",
       "    .dataframe tbody tr th {\n",
       "        vertical-align: top;\n",
       "    }\n",
       "\n",
       "    .dataframe thead th {\n",
       "        text-align: right;\n",
       "    }\n",
       "</style>\n",
       "<table border=\"1\" class=\"dataframe\">\n",
       "  <thead>\n",
       "    <tr style=\"text-align: right;\">\n",
       "      <th></th>\n",
       "      <th>Customer ID</th>\n",
       "      <th>Fictional Surname</th>\n",
       "      <th>Age</th>\n",
       "      <th>Gender</th>\n",
       "      <th>Years at address</th>\n",
       "      <th>Employment status</th>\n",
       "      <th>Country</th>\n",
       "      <th>Current debt</th>\n",
       "      <th>Postcode</th>\n",
       "      <th>Income</th>\n",
       "      <th>Own home</th>\n",
       "      <th>CCJs</th>\n",
       "      <th>Loan amount</th>\n",
       "      <th>Outcome</th>\n",
       "    </tr>\n",
       "  </thead>\n",
       "  <tbody>\n",
       "    <tr>\n",
       "      <th>0</th>\n",
       "      <td>945780</td>\n",
       "      <td>Miah</td>\n",
       "      <td>19</td>\n",
       "      <td>F</td>\n",
       "      <td>2</td>\n",
       "      <td>Unemployed</td>\n",
       "      <td>UK</td>\n",
       "      <td>0</td>\n",
       "      <td>TA3 7SH</td>\n",
       "      <td>45500</td>\n",
       "      <td>Rent</td>\n",
       "      <td>1</td>\n",
       "      <td>13234</td>\n",
       "      <td>Paid</td>\n",
       "    </tr>\n",
       "    <tr>\n",
       "      <th>1</th>\n",
       "      <td>747989</td>\n",
       "      <td>Hollis</td>\n",
       "      <td>66</td>\n",
       "      <td>F</td>\n",
       "      <td>13</td>\n",
       "      <td>Unemployed</td>\n",
       "      <td>UK</td>\n",
       "      <td>1080</td>\n",
       "      <td>WV6 8SU</td>\n",
       "      <td>18000</td>\n",
       "      <td>Own</td>\n",
       "      <td>0</td>\n",
       "      <td>5561</td>\n",
       "      <td>Paid</td>\n",
       "    </tr>\n",
       "    <tr>\n",
       "      <th>2</th>\n",
       "      <td>790344</td>\n",
       "      <td>Barker</td>\n",
       "      <td>48</td>\n",
       "      <td>F</td>\n",
       "      <td>4</td>\n",
       "      <td>Self Employed</td>\n",
       "      <td>UK</td>\n",
       "      <td>3690</td>\n",
       "      <td>BT15 5HG</td>\n",
       "      <td>47500</td>\n",
       "      <td>Rent</td>\n",
       "      <td>1</td>\n",
       "      <td>28288</td>\n",
       "      <td>Paid</td>\n",
       "    </tr>\n",
       "    <tr>\n",
       "      <th>3</th>\n",
       "      <td>597668</td>\n",
       "      <td>Titford</td>\n",
       "      <td>67</td>\n",
       "      <td>F</td>\n",
       "      <td>47</td>\n",
       "      <td>Self Employed</td>\n",
       "      <td>UK</td>\n",
       "      <td>6560</td>\n",
       "      <td>GU10 3NH</td>\n",
       "      <td>36000</td>\n",
       "      <td>Mortgage</td>\n",
       "      <td>0</td>\n",
       "      <td>30199</td>\n",
       "      <td>Paid</td>\n",
       "    </tr>\n",
       "    <tr>\n",
       "      <th>4</th>\n",
       "      <td>794971</td>\n",
       "      <td>Berry</td>\n",
       "      <td>70</td>\n",
       "      <td>M</td>\n",
       "      <td>8</td>\n",
       "      <td>Self Employed</td>\n",
       "      <td>UK</td>\n",
       "      <td>9100</td>\n",
       "      <td>GL6 6UB</td>\n",
       "      <td>50500</td>\n",
       "      <td>Own</td>\n",
       "      <td>0</td>\n",
       "      <td>35078</td>\n",
       "      <td>Paid</td>\n",
       "    </tr>\n",
       "  </tbody>\n",
       "</table>\n",
       "</div>"
      ],
      "text/plain": [
       "   Customer ID Fictional Surname  Age Gender  Years at address  \\\n",
       "0       945780              Miah   19      F                 2   \n",
       "1       747989            Hollis   66      F                13   \n",
       "2       790344            Barker   48      F                 4   \n",
       "3       597668           Titford   67      F                47   \n",
       "4       794971             Berry   70      M                 8   \n",
       "\n",
       "  Employment status Country  Current debt  Postcode  Income  Own home  CCJs  \\\n",
       "0        Unemployed      UK             0   TA3 7SH   45500      Rent     1   \n",
       "1        Unemployed      UK          1080   WV6 8SU   18000       Own     0   \n",
       "2     Self Employed      UK          3690  BT15 5HG   47500      Rent     1   \n",
       "3     Self Employed      UK          6560  GU10 3NH   36000  Mortgage     0   \n",
       "4     Self Employed      UK          9100   GL6 6UB   50500       Own     0   \n",
       "\n",
       "   Loan amount Outcome  \n",
       "0        13234    Paid  \n",
       "1         5561    Paid  \n",
       "2        28288    Paid  \n",
       "3        30199    Paid  \n",
       "4        35078    Paid  "
      ]
     },
     "execution_count": 66,
     "metadata": {},
     "output_type": "execute_result"
    }
   ],
   "source": [
    "loanData = pd.read_csv('loanCSV.csv')\n",
    "loanData.head()"
   ]
  },
  {
   "cell_type": "code",
   "execution_count": 67,
   "id": "26a72e8f",
   "metadata": {},
   "outputs": [],
   "source": [
    "loanOG = loanData.copy()"
   ]
  },
  {
   "cell_type": "code",
   "execution_count": 68,
   "id": "2295ca0e",
   "metadata": {},
   "outputs": [
    {
     "data": {
      "text/plain": [
       "Index(['Customer ID', 'Fictional Surname', 'Age', 'Gender', 'Years at address',\n",
       "       'Employment status', 'Country', 'Current debt', 'Postcode', 'Income',\n",
       "       'Own home', 'CCJs', 'Loan amount', 'Outcome'],\n",
       "      dtype='object')"
      ]
     },
     "execution_count": 68,
     "metadata": {},
     "output_type": "execute_result"
    }
   ],
   "source": [
    "loanData.columns"
   ]
  },
  {
   "cell_type": "code",
   "execution_count": 69,
   "id": "b08c956d",
   "metadata": {},
   "outputs": [
    {
     "data": {
      "text/plain": [
       "Customer ID           int64\n",
       "Fictional Surname    object\n",
       "Age                   int64\n",
       "Gender               object\n",
       "Years at address      int64\n",
       "Employment status    object\n",
       "Country              object\n",
       "Current debt          int64\n",
       "Postcode             object\n",
       "Income                int64\n",
       "Own home             object\n",
       "CCJs                  int64\n",
       "Loan amount           int64\n",
       "Outcome              object\n",
       "dtype: object"
      ]
     },
     "execution_count": 69,
     "metadata": {},
     "output_type": "execute_result"
    }
   ],
   "source": [
    "loanData.dtypes"
   ]
  },
  {
   "cell_type": "code",
   "execution_count": 70,
   "id": "3e8c726b",
   "metadata": {},
   "outputs": [
    {
     "data": {
      "text/plain": [
       "(2000, 14)"
      ]
     },
     "execution_count": 70,
     "metadata": {},
     "output_type": "execute_result"
    }
   ],
   "source": [
    "loanData.shape"
   ]
  },
  {
   "cell_type": "code",
   "execution_count": 71,
   "id": "1717a0f2",
   "metadata": {},
   "outputs": [
    {
     "data": {
      "text/plain": [
       "Paid         1118\n",
       "Defaulted     882\n",
       "Name: Outcome, dtype: int64"
      ]
     },
     "execution_count": 71,
     "metadata": {},
     "output_type": "execute_result"
    }
   ],
   "source": [
    "loanData['Outcome'].value_counts()"
   ]
  },
  {
   "cell_type": "code",
   "execution_count": 72,
   "id": "a4d285fe",
   "metadata": {},
   "outputs": [
    {
     "data": {
      "text/plain": [
       "Paid         0.559\n",
       "Defaulted    0.441\n",
       "Name: Outcome, dtype: float64"
      ]
     },
     "execution_count": 72,
     "metadata": {},
     "output_type": "execute_result"
    }
   ],
   "source": [
    "loanData['Outcome'].value_counts(normalize = True)"
   ]
  },
  {
   "cell_type": "code",
   "execution_count": 73,
   "id": "e98892fe",
   "metadata": {
    "scrolled": true
   },
   "outputs": [
    {
     "data": {
      "text/plain": [
       "<AxesSubplot:>"
      ]
     },
     "execution_count": 73,
     "metadata": {},
     "output_type": "execute_result"
    },
    {
     "data": {
      "image/png": "[encoded data removed]",
      "text/plain": [
       "<Figure size 432x288 with 1 Axes>"
      ]
     },
     "metadata": {
      "needs_background": "light"
     },
     "output_type": "display_data"
    }
   ],
   "source": [
    "loanData['Outcome'].value_counts().plot.bar()"
   ]
  },
  {
   "cell_type": "code",
   "execution_count": 74,
   "id": "8ae3e504",
   "metadata": {},
   "outputs": [
    {
     "data": {
      "image/png": "[encoded data removed]",
      "text/plain": [
       "<Figure size 1440x720 with 1 Axes>"
      ]
     },
     "metadata": {
      "needs_background": "light"
     },
     "output_type": "display_data"
    }
   ],
   "source": [
    "loanData['Gender'].value_counts(normalize=True).plot.bar(figsize=(20,10), title='Gender')\n",
    "plt.show()"
   ]
  },
  {
   "cell_type": "code",
   "execution_count": 75,
   "id": "50c6b55b",
   "metadata": {},
   "outputs": [
    {
     "data": {
      "text/plain": [
       "M         1017\n",
       "F          968\n",
       "Female       4\n",
       "Male         3\n",
       "H            2\n",
       "N            2\n",
       "1            2\n",
       "0            1\n",
       "D            1\n",
       "Name: Gender, dtype: int64"
      ]
     },
     "execution_count": 75,
     "metadata": {},
     "output_type": "execute_result"
    }
   ],
   "source": [
    "loanData['Gender'].value_counts()"
   ]
  },
  {
   "cell_type": "code",
   "execution_count": 76,
   "id": "112d6a60",
   "metadata": {},
   "outputs": [
    {
     "name": "stdout",
     "output_type": "stream",
     "text": [
      "1992\n"
     ]
    },
    {
     "data": {
      "text/plain": [
       "2000"
      ]
     },
     "execution_count": 76,
     "metadata": {},
     "output_type": "execute_result"
    }
   ],
   "source": [
    "print(1017+968+4+3)\n",
    "len(loanData)"
   ]
  },
  {
   "cell_type": "code",
   "execution_count": 77,
   "id": "3a64abe8",
   "metadata": {},
   "outputs": [
    {
     "data": {
      "text/plain": [
       "M    1020\n",
       "F     972\n",
       "H       2\n",
       "N       2\n",
       "1       2\n",
       "0       1\n",
       "D       1\n",
       "Name: Gender, dtype: int64"
      ]
     },
     "execution_count": 77,
     "metadata": {},
     "output_type": "execute_result"
    }
   ],
   "source": [
    "loanData['Gender'].replace(\"Male\",\"M\", inplace = True)\n",
    "loanData['Gender'].replace(\"Female\", \"F\", inplace = True)   \n",
    "\n",
    "loanData['Gender'].value_counts()        "
   ]
  },
  {
   "cell_type": "code",
   "execution_count": 78,
   "id": "4681a389",
   "metadata": {},
   "outputs": [
    {
     "data": {
      "text/html": [
       "<div>\n",
       "<style scoped>\n",
       "    .dataframe tbody tr th:only-of-type {\n",
       "        vertical-align: middle;\n",
       "    }\n",
       "\n",
       "    .dataframe tbody tr th {\n",
       "        vertical-align: top;\n",
       "    }\n",
       "\n",
       "    .dataframe thead th {\n",
       "        text-align: right;\n",
       "    }\n",
       "</style>\n",
       "<table border=\"1\" class=\"dataframe\">\n",
       "  <thead>\n",
       "    <tr style=\"text-align: right;\">\n",
       "      <th></th>\n",
       "      <th>Customer ID</th>\n",
       "      <th>Fictional Surname</th>\n",
       "      <th>Age</th>\n",
       "      <th>Gender</th>\n",
       "      <th>Years at address</th>\n",
       "      <th>Employment status</th>\n",
       "      <th>Country</th>\n",
       "      <th>Current debt</th>\n",
       "      <th>Postcode</th>\n",
       "      <th>Income</th>\n",
       "      <th>Own home</th>\n",
       "      <th>CCJs</th>\n",
       "      <th>Loan amount</th>\n",
       "      <th>Outcome</th>\n",
       "    </tr>\n",
       "  </thead>\n",
       "  <tbody>\n",
       "    <tr>\n",
       "      <th>325</th>\n",
       "      <td>611927.0</td>\n",
       "      <td>Irish</td>\n",
       "      <td>68.0</td>\n",
       "      <td>H</td>\n",
       "      <td>6.0</td>\n",
       "      <td>Unemployed</td>\n",
       "      <td>UK</td>\n",
       "      <td>5340.0</td>\n",
       "      <td>W14 0AJ</td>\n",
       "      <td>31000.0</td>\n",
       "      <td>Rent</td>\n",
       "      <td>2.0</td>\n",
       "      <td>21572.0</td>\n",
       "      <td>Defaulted</td>\n",
       "    </tr>\n",
       "    <tr>\n",
       "      <th>511</th>\n",
       "      <td>953789.0</td>\n",
       "      <td>Feller</td>\n",
       "      <td>33.0</td>\n",
       "      <td>H</td>\n",
       "      <td>4.0</td>\n",
       "      <td>Employed</td>\n",
       "      <td>UK</td>\n",
       "      <td>4970.0</td>\n",
       "      <td>CV36 5HS</td>\n",
       "      <td>29500.0</td>\n",
       "      <td>Own</td>\n",
       "      <td>3.0</td>\n",
       "      <td>10010.0</td>\n",
       "      <td>Defaulted</td>\n",
       "    </tr>\n",
       "  </tbody>\n",
       "</table>\n",
       "</div>"
      ],
      "text/plain": [
       "     Customer ID Fictional Surname   Age Gender  Years at address  \\\n",
       "325     611927.0             Irish  68.0      H               6.0   \n",
       "511     953789.0            Feller  33.0      H               4.0   \n",
       "\n",
       "    Employment status Country  Current debt  Postcode   Income Own home  CCJs  \\\n",
       "325        Unemployed      UK        5340.0   W14 0AJ  31000.0     Rent   2.0   \n",
       "511          Employed      UK        4970.0  CV36 5HS  29500.0      Own   3.0   \n",
       "\n",
       "     Loan amount    Outcome  \n",
       "325      21572.0  Defaulted  \n",
       "511      10010.0  Defaulted  "
      ]
     },
     "execution_count": 78,
     "metadata": {},
     "output_type": "execute_result"
    }
   ],
   "source": [
    "loanData.where(loanData['Gender']=='H').dropna()"
   ]
  },
  {
   "cell_type": "code",
   "execution_count": 79,
   "id": "96eb89dd",
   "metadata": {},
   "outputs": [
    {
     "data": {
      "text/html": [
       "<div>\n",
       "<style scoped>\n",
       "    .dataframe tbody tr th:only-of-type {\n",
       "        vertical-align: middle;\n",
       "    }\n",
       "\n",
       "    .dataframe tbody tr th {\n",
       "        vertical-align: top;\n",
       "    }\n",
       "\n",
       "    .dataframe thead th {\n",
       "        text-align: right;\n",
       "    }\n",
       "</style>\n",
       "<table border=\"1\" class=\"dataframe\">\n",
       "  <thead>\n",
       "    <tr style=\"text-align: right;\">\n",
       "      <th></th>\n",
       "      <th>Customer ID</th>\n",
       "      <th>Fictional Surname</th>\n",
       "      <th>Age</th>\n",
       "      <th>Gender</th>\n",
       "      <th>Years at address</th>\n",
       "      <th>Employment status</th>\n",
       "      <th>Country</th>\n",
       "      <th>Current debt</th>\n",
       "      <th>Postcode</th>\n",
       "      <th>Income</th>\n",
       "      <th>Own home</th>\n",
       "      <th>CCJs</th>\n",
       "      <th>Loan amount</th>\n",
       "      <th>Outcome</th>\n",
       "    </tr>\n",
       "  </thead>\n",
       "  <tbody>\n",
       "    <tr>\n",
       "      <th>1247</th>\n",
       "      <td>661346.0</td>\n",
       "      <td>Penfold</td>\n",
       "      <td>20.0</td>\n",
       "      <td>N</td>\n",
       "      <td>2.0</td>\n",
       "      <td>Self Employed</td>\n",
       "      <td>UK</td>\n",
       "      <td>1970.0</td>\n",
       "      <td>NW6 3DG</td>\n",
       "      <td>43500.0</td>\n",
       "      <td>Mortgage</td>\n",
       "      <td>0.0</td>\n",
       "      <td>21577.0</td>\n",
       "      <td>Defaulted</td>\n",
       "    </tr>\n",
       "    <tr>\n",
       "      <th>1422</th>\n",
       "      <td>1108579.0</td>\n",
       "      <td>Oliver</td>\n",
       "      <td>60.0</td>\n",
       "      <td>N</td>\n",
       "      <td>25.0</td>\n",
       "      <td>Self Employed</td>\n",
       "      <td>UK</td>\n",
       "      <td>2750.0</td>\n",
       "      <td>LS29 8QA</td>\n",
       "      <td>32000.0</td>\n",
       "      <td>Mortgage</td>\n",
       "      <td>0.0</td>\n",
       "      <td>31577.0</td>\n",
       "      <td>Paid</td>\n",
       "    </tr>\n",
       "  </tbody>\n",
       "</table>\n",
       "</div>"
      ],
      "text/plain": [
       "      Customer ID Fictional Surname   Age Gender  Years at address  \\\n",
       "1247     661346.0           Penfold  20.0      N               2.0   \n",
       "1422    1108579.0            Oliver  60.0      N              25.0   \n",
       "\n",
       "     Employment status Country  Current debt  Postcode   Income  Own home  \\\n",
       "1247     Self Employed      UK        1970.0   NW6 3DG  43500.0  Mortgage   \n",
       "1422     Self Employed      UK        2750.0  LS29 8QA  32000.0  Mortgage   \n",
       "\n",
       "      CCJs  Loan amount    Outcome  \n",
       "1247   0.0      21577.0  Defaulted  \n",
       "1422   0.0      31577.0       Paid  "
      ]
     },
     "execution_count": 79,
     "metadata": {},
     "output_type": "execute_result"
    }
   ],
   "source": [
    "loanData.where(loanData['Gender']=='N').dropna()"
   ]
  },
  {
   "cell_type": "code",
   "execution_count": 80,
   "id": "b0543654",
   "metadata": {},
   "outputs": [
    {
     "data": {
      "text/html": [
       "<div>\n",
       "<style scoped>\n",
       "    .dataframe tbody tr th:only-of-type {\n",
       "        vertical-align: middle;\n",
       "    }\n",
       "\n",
       "    .dataframe tbody tr th {\n",
       "        vertical-align: top;\n",
       "    }\n",
       "\n",
       "    .dataframe thead th {\n",
       "        text-align: right;\n",
       "    }\n",
       "</style>\n",
       "<table border=\"1\" class=\"dataframe\">\n",
       "  <thead>\n",
       "    <tr style=\"text-align: right;\">\n",
       "      <th></th>\n",
       "      <th>Customer ID</th>\n",
       "      <th>Fictional Surname</th>\n",
       "      <th>Age</th>\n",
       "      <th>Gender</th>\n",
       "      <th>Years at address</th>\n",
       "      <th>Employment status</th>\n",
       "      <th>Country</th>\n",
       "      <th>Current debt</th>\n",
       "      <th>Postcode</th>\n",
       "      <th>Income</th>\n",
       "      <th>Own home</th>\n",
       "      <th>CCJs</th>\n",
       "      <th>Loan amount</th>\n",
       "      <th>Outcome</th>\n",
       "    </tr>\n",
       "  </thead>\n",
       "  <tbody>\n",
       "    <tr>\n",
       "      <th>1779</th>\n",
       "      <td>886717.0</td>\n",
       "      <td>Judice</td>\n",
       "      <td>39.0</td>\n",
       "      <td>0</td>\n",
       "      <td>18.0</td>\n",
       "      <td>Self Employed</td>\n",
       "      <td>UK</td>\n",
       "      <td>4790.0</td>\n",
       "      <td>ME13 0BL</td>\n",
       "      <td>51500.0</td>\n",
       "      <td>Mortgage</td>\n",
       "      <td>3.0</td>\n",
       "      <td>1640.0</td>\n",
       "      <td>Defaulted</td>\n",
       "    </tr>\n",
       "  </tbody>\n",
       "</table>\n",
       "</div>"
      ],
      "text/plain": [
       "      Customer ID Fictional Surname   Age Gender  Years at address  \\\n",
       "1779     886717.0            Judice  39.0      0              18.0   \n",
       "\n",
       "     Employment status Country  Current debt  Postcode   Income  Own home  \\\n",
       "1779     Self Employed      UK        4790.0  ME13 0BL  51500.0  Mortgage   \n",
       "\n",
       "      CCJs  Loan amount    Outcome  \n",
       "1779   3.0       1640.0  Defaulted  "
      ]
     },
     "execution_count": 80,
     "metadata": {},
     "output_type": "execute_result"
    }
   ],
   "source": [
    "loanData.where(loanData['Gender']=='0').dropna()"
   ]
  },
  {
   "cell_type": "code",
   "execution_count": 81,
   "id": "40806a23",
   "metadata": {},
   "outputs": [
    {
     "data": {
      "image/png": "[encoded data removed]",
      "text/plain": [
       "<Figure size 1440x720 with 1 Axes>"
      ]
     },
     "metadata": {
      "needs_background": "light"
     },
     "output_type": "display_data"
    }
   ],
   "source": [
    "loanData['Gender'].value_counts(normalize=True).plot.bar(figsize=(20,10), title='Gender')\n",
    "plt.show()"
   ]
  },
  {
   "cell_type": "code",
   "execution_count": 82,
   "id": "d12b947e",
   "metadata": {},
   "outputs": [
    {
     "data": {
      "image/png": "[encoded data removed]",
      "text/plain": [
       "<Figure size 1440x720 with 1 Axes>"
      ]
     },
     "metadata": {
      "needs_background": "light"
     },
     "output_type": "display_data"
    }
   ],
   "source": [
    "loanData['Employment status'].value_counts(normalize=True).plot.bar(figsize=(20,10), title='Employment Status')\n",
    "plt.show()"
   ]
  },
  {
   "cell_type": "code",
   "execution_count": 83,
   "id": "bc196579",
   "metadata": {},
   "outputs": [
    {
     "data": {
      "image/png": "[encoded data removed]",
      "text/plain": [
       "<Figure size 432x288 with 1 Axes>"
      ]
     },
     "metadata": {
      "needs_background": "light"
     },
     "output_type": "display_data"
    }
   ],
   "source": [
    "loanData['CCJs'].value_counts(normalize=True).plot.bar( title='Country Court Judgements due to Defaulting')\n",
    "plt.show()"
   ]
  },
  {
   "cell_type": "code",
   "execution_count": 84,
   "id": "d4516ca1",
   "metadata": {},
   "outputs": [
    {
     "data": {
      "image/png": "[encoded data removed]",
      "text/plain": [
       "<Figure size 432x288 with 1 Axes>"
      ]
     },
     "metadata": {
      "needs_background": "light"
     },
     "output_type": "display_data"
    }
   ],
   "source": [
    "loanData['Own home'].value_counts(normalize=True).plot.bar(title='Property Type')\n",
    "plt.show()\n"
   ]
  },
  {
   "cell_type": "code",
   "execution_count": 85,
   "id": "ca9e5dc1",
   "metadata": {},
   "outputs": [
    {
     "name": "stderr",
     "output_type": "stream",
     "text": [
      "c:\\users\\aritra marik\\appdata\\local\\programs\\python\\python39\\lib\\site-packages\\seaborn\\distributions.py:2557: FutureWarning: `distplot` is a deprecated function and will be removed in a future version. Please adapt your code to use either `displot` (a figure-level function with similar flexibility) or `histplot` (an axes-level function for histograms).\n",
      "  warnings.warn(msg, FutureWarning)\n"
     ]
    },
    {
     "data": {
      "image/png": "[encoded data removed]",
      "text/plain": [
       "<Figure size 432x288 with 1 Axes>"
      ]
     },
     "metadata": {
      "needs_background": "light"
     },
     "output_type": "display_data"
    },
    {
     "data": {
      "image/png": "[encoded data removed]",
      "text/plain": [
       "<Figure size 1440x720 with 1 Axes>"
      ]
     },
     "metadata": {
      "needs_background": "light"
     },
     "output_type": "display_data"
    }
   ],
   "source": [
    "sns.distplot(loanData['Income'])\n",
    "plt.show()\n",
    "loanData['Income'].plot.box(figsize=(20,10))\n",
    "plt.show()"
   ]
  },
  {
   "cell_type": "code",
   "execution_count": 86,
   "id": "eafab57f",
   "metadata": {},
   "outputs": [
    {
     "data": {
      "text/plain": [
       "Text(0.5, 0.98, '')"
      ]
     },
     "execution_count": 86,
     "metadata": {},
     "output_type": "execute_result"
    },
    {
     "data": {
      "image/png": "[encoded data removed]",
      "text/plain": [
       "<Figure size 432x288 with 1 Axes>"
      ]
     },
     "metadata": {
      "needs_background": "light"
     },
     "output_type": "display_data"
    }
   ],
   "source": [
    "loanData.boxplot(column='Income', by = 'Gender') \n",
    "plt.suptitle(\"\")"
   ]
  },
  {
   "cell_type": "code",
   "execution_count": 87,
   "id": "8554fce8",
   "metadata": {},
   "outputs": [
    {
     "name": "stderr",
     "output_type": "stream",
     "text": [
      "c:\\users\\aritra marik\\appdata\\local\\programs\\python\\python39\\lib\\site-packages\\seaborn\\distributions.py:2557: FutureWarning: `distplot` is a deprecated function and will be removed in a future version. Please adapt your code to use either `displot` (a figure-level function with similar flexibility) or `histplot` (an axes-level function for histograms).\n",
      "  warnings.warn(msg, FutureWarning)\n"
     ]
    },
    {
     "data": {
      "image/png": "[encoded data removed]",
      "text/plain": [
       "<Figure size 432x288 with 1 Axes>"
      ]
     },
     "metadata": {
      "needs_background": "light"
     },
     "output_type": "display_data"
    },
    {
     "data": {
      "image/png": "[encoded data removed]",
      "text/plain": [
       "<Figure size 1152x360 with 1 Axes>"
      ]
     },
     "metadata": {
      "needs_background": "light"
     },
     "output_type": "display_data"
    }
   ],
   "source": [
    "loanData.notna()\n",
    "sns.distplot(loanData['Loan amount'])\n",
    "plt.show()\n",
    "loanData['Loan amount'].plot.box(figsize=(16,5))\n",
    "plt.show()"
   ]
  },
  {
   "cell_type": "code",
   "execution_count": 88,
   "id": "753a2659",
   "metadata": {},
   "outputs": [
    {
     "data": {
      "image/png": "[encoded data removed]",
      "text/plain": [
       "<Figure size 288x288 with 1 Axes>"
      ]
     },
     "metadata": {
      "needs_background": "light"
     },
     "output_type": "display_data"
    }
   ],
   "source": [
    "Gender=pd.crosstab(loanData['Gender'],loanData['Outcome'])\n",
    "Gender.div(Gender.sum(1).astype(float), axis=0).plot(kind=\"bar\",stacked=True,figsize=(4,4))\n",
    "plt.show()"
   ]
  },
  {
   "cell_type": "code",
   "execution_count": 89,
   "id": "15b4b677",
   "metadata": {},
   "outputs": [
    {
     "data": {
      "image/png": "[encoded data removed]",
      "text/plain": [
       "<Figure size 288x288 with 1 Axes>"
      ]
     },
     "metadata": {
      "needs_background": "light"
     },
     "output_type": "display_data"
    }
   ],
   "source": [
    "Emp_Status=pd.crosstab(loanData['Employment status'],loanData['Outcome'])\n",
    "Emp_Status.div(Emp_Status.sum(1).astype(float), axis=0).plot(kind=\"bar\",stacked=True,figsize=(4,4))\n",
    "plt.show()"
   ]
  },
  {
   "cell_type": "code",
   "execution_count": 90,
   "id": "cd31ef38",
   "metadata": {},
   "outputs": [
    {
     "data": {
      "image/png": "[encoded data removed]",
      "text/plain": [
       "<Figure size 288x288 with 1 Axes>"
      ]
     },
     "metadata": {
      "needs_background": "light"
     },
     "output_type": "display_data"
    }
   ],
   "source": [
    "CCJs=pd.crosstab(loanData['CCJs'],loanData['Outcome'])\n",
    "CCJs.div(CCJs.sum(1).astype(float), axis=0).plot(kind=\"bar\",stacked=True,figsize=(4,4))\n",
    "plt.show()"
   ]
  },
  {
   "cell_type": "code",
   "execution_count": 91,
   "id": "f79f8357",
   "metadata": {},
   "outputs": [
    {
     "data": {
      "image/png": "[encoded data removed]",
      "text/plain": [
       "<Figure size 288x288 with 1 Axes>"
      ]
     },
     "metadata": {
      "needs_background": "light"
     },
     "output_type": "display_data"
    }
   ],
   "source": [
    "Prop=pd.crosstab(loanData['Own home'],loanData['Outcome'])\n",
    "Prop.div(Prop.sum(1).astype(float), axis=0).plot(kind=\"bar\",stacked=True,figsize=(4,4))\n",
    "plt.show()"
   ]
  },
  {
   "cell_type": "code",
   "execution_count": 92,
   "id": "67049574",
   "metadata": {},
   "outputs": [
    {
     "data": {
      "text/plain": [
       "<AxesSubplot:xlabel='Outcome'>"
      ]
     },
     "execution_count": 92,
     "metadata": {},
     "output_type": "execute_result"
    },
    {
     "data": {
      "image/png": "[encoded data removed]",
      "text/plain": [
       "<Figure size 432x288 with 1 Axes>"
      ]
     },
     "metadata": {
      "needs_background": "light"
     },
     "output_type": "display_data"
    }
   ],
   "source": [
    "loanData.groupby('Outcome')['Income'].mean().plot.bar()"
   ]
  },
  {
   "cell_type": "code",
   "execution_count": 93,
   "id": "c8fb68b0",
   "metadata": {},
   "outputs": [
    {
     "data": {
      "image/png": "[encoded data removed]",
      "text/plain": [
       "<Figure size 432x288 with 1 Axes>"
      ]
     },
     "metadata": {
      "needs_background": "light"
     },
     "output_type": "display_data"
    }
   ],
   "source": [
    "bins = [0, 10000, 20000, 40000, 50000, 60000]\n",
    "group= ['Very Low','Low', 'Average', 'High','Very High']\n",
    "loanData['Income_bin'] = pd.cut(loanData['Income'], bins, labels = group)\n",
    "Income_bin = pd.crosstab(loanData['Income_bin'], loanData['Outcome'])\n",
    "Income_bin.div(Income_bin.sum(1).astype(float),axis = 0).plot(kind = \"bar\", stacked = True)\n",
    "plt.xlabel('Income')\n",
    "P = plt.ylabel('Percentage')"
   ]
  },
  {
   "cell_type": "code",
   "execution_count": 94,
   "id": "2e14dd85",
   "metadata": {},
   "outputs": [
    {
     "data": {
      "image/png": "[encoded data removed]",
      "text/plain": [
       "<Figure size 432x288 with 1 Axes>"
      ]
     },
     "metadata": {
      "needs_background": "light"
     },
     "output_type": "display_data"
    }
   ],
   "source": [
    "bins = [0,5000, 10000, 20000, 40000, 50000]\n",
    "group= ['Very Low','Low', 'Average', 'High','Very High']\n",
    "loanData['Loan amount_bin'] = pd.cut(loanData['Loan amount'], bins, labels = group)\n",
    "Loan_bin = pd.crosstab(loanData['Loan amount_bin'], loanData['Outcome'])\n",
    "Income_bin.div(Income_bin.sum(1).astype(float),axis = 0).plot(kind = \"bar\", stacked = True)\n",
    "plt.xlabel('Loan Amount')\n",
    "P = plt.ylabel('Percentage')"
   ]
  },
  {
   "cell_type": "code",
   "execution_count": 95,
   "id": "cf263e43",
   "metadata": {},
   "outputs": [],
   "source": [
    "loanData = loanData.drop(['Income_bin','Loan amount_bin'], axis =1)\n",
    "loanData['Outcome'].replace('Defaulted', 0, inplace = True)\n",
    "loanData['Outcome'].replace('Paid', 1, inplace = True)"
   ]
  },
  {
   "cell_type": "code",
   "execution_count": 96,
   "id": "cf087c07",
   "metadata": {},
   "outputs": [
    {
     "data": {
      "text/plain": [
       "<AxesSubplot:>"
      ]
     },
     "execution_count": 96,
     "metadata": {},
     "output_type": "execute_result"
    },
    {
     "data": {
      "image/png": "[encoded data removed]",
      "text/plain": [
       "<Figure size 648x432 with 2 Axes>"
      ]
     },
     "metadata": {
      "needs_background": "light"
     },
     "output_type": "display_data"
    }
   ],
   "source": [
    "matrix = loanData.corr()\n",
    "f, ax = plt.subplots(figsize=(9,6))\n",
    "sns.heatmap(matrix,vmax=.8,square=True,cmap=\"BuPu\", annot = True)"
   ]
  },
  {
   "cell_type": "code",
   "execution_count": 97,
   "id": "22491477",
   "metadata": {},
   "outputs": [
    {
     "data": {
      "text/plain": [
       "Customer ID          0\n",
       "Fictional Surname    0\n",
       "Age                  0\n",
       "Gender               0\n",
       "Years at address     0\n",
       "Employment status    0\n",
       "Country              0\n",
       "Current debt         0\n",
       "Postcode             0\n",
       "Income               0\n",
       "Own home             0\n",
       "CCJs                 0\n",
       "Loan amount          0\n",
       "Outcome              0\n",
       "dtype: int64"
      ]
     },
     "execution_count": 97,
     "metadata": {},
     "output_type": "execute_result"
    }
   ],
   "source": [
    "loanData.isnull().sum()"
   ]
  },
  {
   "cell_type": "code",
   "execution_count": 98,
   "id": "671de93e",
   "metadata": {},
   "outputs": [],
   "source": [
    "loanData['Gender'].replace(\"H\",\"M\", inplace = True)\n",
    "loanData['Gender'].replace(\"N\",\"M\", inplace = True)\n",
    "loanData['Gender'].replace(\"1\",\"M\", inplace = True)\n",
    "loanData['Gender'].replace(\"0\",\"M\", inplace = True)\n"
   ]
  },
  {
   "cell_type": "code",
   "execution_count": 99,
   "id": "9c4601e6",
   "metadata": {},
   "outputs": [
    {
     "data": {
      "text/plain": [
       "<AxesSubplot:>"
      ]
     },
     "execution_count": 99,
     "metadata": {},
     "output_type": "execute_result"
    },
    {
     "data": {
      "image/png": "[encoded data removed]",
      "text/plain": [
       "<Figure size 432x288 with 1 Axes>"
      ]
     },
     "metadata": {
      "needs_background": "light"
     },
     "output_type": "display_data"
    }
   ],
   "source": [
    "loanData['LoanAmount_log'] = np.log(loanData['Loan amount'])\n",
    "loanData['LoanAmount_log'].hist(bins=20)"
   ]
  },
  {
   "cell_type": "code",
   "execution_count": 100,
   "id": "d807aa24",
   "metadata": {},
   "outputs": [],
   "source": [
    "test = loanData.drop('Outcome',1)\n",
    "loanData = loanData.drop('Customer ID', axis =1)\n",
    "test = test.drop('Customer ID', 1)"
   ]
  },
  {
   "cell_type": "code",
   "execution_count": 101,
   "id": "f6adb608",
   "metadata": {},
   "outputs": [],
   "source": [
    "X = loanData.drop('Outcome', 1)\n",
    "Y = loanData.Outcome"
   ]
  },
  {
   "cell_type": "code",
   "execution_count": 102,
   "id": "313a4b47",
   "metadata": {},
   "outputs": [],
   "source": [
    "X = pd.get_dummies(X)\n",
    "loanData = pd.get_dummies(loanData)"
   ]
  },
  {
   "cell_type": "code",
   "execution_count": 103,
   "id": "f971a91f",
   "metadata": {},
   "outputs": [],
   "source": [
    "from sklearn.model_selection import train_test_split\n",
    "\n",
    "x_train, x_cv, y_train, y_cv = train_test_split(X,Y, test_size=0.3)"
   ]
  },
  {
   "cell_type": "code",
   "execution_count": 104,
   "id": "3c34ebbe",
   "metadata": {},
   "outputs": [
    {
     "data": {
      "text/plain": [
       "LogisticRegression()"
      ]
     },
     "execution_count": 104,
     "metadata": {},
     "output_type": "execute_result"
    }
   ],
   "source": [
    "from sklearn.linear_model import LogisticRegression\n",
    "from sklearn.metrics import accuracy_score\n",
    "model = LogisticRegression()\n",
    "model.fit(x_train, y_train)\n"
   ]
  },
  {
   "cell_type": "code",
   "execution_count": 105,
   "id": "334c94cf",
   "metadata": {},
   "outputs": [
    {
     "data": {
      "text/plain": [
       "0.705"
      ]
     },
     "execution_count": 105,
     "metadata": {},
     "output_type": "execute_result"
    }
   ],
   "source": [
    "pred_cv = model.predict(x_cv)\n",
    "accuracy_score(y_cv,pred_cv)"
   ]
  },
  {
   "cell_type": "code",
   "execution_count": 106,
   "id": "57429074",
   "metadata": {},
   "outputs": [],
   "source": [
    "test['LoanAmount_log']=np.log(test['Loan amount'])\n",
    "test_original = test\n",
    "test = pd.get_dummies(test)\n"
   ]
  },
  {
   "cell_type": "code",
   "execution_count": 107,
   "id": "788beb09",
   "metadata": {},
   "outputs": [],
   "source": [
    "pred_test = model.predict(test)\n"
   ]
  },
  {
   "cell_type": "code",
   "execution_count": 108,
   "id": "fbc4da65",
   "metadata": {},
   "outputs": [],
   "source": [
    "data = {'Customer ID':[], 'Outcome': []}\n",
    "submission = pd.DataFrame(data)"
   ]
  },
  {
   "cell_type": "code",
   "execution_count": 109,
   "id": "72b1de1c",
   "metadata": {},
   "outputs": [],
   "source": [
    "submission['Outcome'] = pred_test"
   ]
  },
  {
   "cell_type": "code",
   "execution_count": 110,
   "id": "eced73b6",
   "metadata": {},
   "outputs": [],
   "source": [
    "submission['Customer ID'] = test_original['Customer ID']"
   ]
  },
  {
   "cell_type": "code",
   "execution_count": 111,
   "id": "d2544f2b",
   "metadata": {},
   "outputs": [
    {
     "data": {
      "text/html": [
       "<div>\n",
       "<style scoped>\n",
       "    .dataframe tbody tr th:only-of-type {\n",
       "        vertical-align: middle;\n",
       "    }\n",
       "\n",
       "    .dataframe tbody tr th {\n",
       "        vertical-align: top;\n",
       "    }\n",
       "\n",
       "    .dataframe thead th {\n",
       "        text-align: right;\n",
       "    }\n",
       "</style>\n",
       "<table border=\"1\" class=\"dataframe\">\n",
       "  <thead>\n",
       "    <tr style=\"text-align: right;\">\n",
       "      <th></th>\n",
       "      <th>Customer ID</th>\n",
       "      <th>Outcome</th>\n",
       "    </tr>\n",
       "  </thead>\n",
       "  <tbody>\n",
       "    <tr>\n",
       "      <th>0</th>\n",
       "      <td>945780</td>\n",
       "      <td>1</td>\n",
       "    </tr>\n",
       "    <tr>\n",
       "      <th>1</th>\n",
       "      <td>747989</td>\n",
       "      <td>1</td>\n",
       "    </tr>\n",
       "    <tr>\n",
       "      <th>2</th>\n",
       "      <td>790344</td>\n",
       "      <td>1</td>\n",
       "    </tr>\n",
       "    <tr>\n",
       "      <th>3</th>\n",
       "      <td>597668</td>\n",
       "      <td>1</td>\n",
       "    </tr>\n",
       "    <tr>\n",
       "      <th>4</th>\n",
       "      <td>794971</td>\n",
       "      <td>1</td>\n",
       "    </tr>\n",
       "  </tbody>\n",
       "</table>\n",
       "</div>"
      ],
      "text/plain": [
       "   Customer ID  Outcome\n",
       "0       945780        1\n",
       "1       747989        1\n",
       "2       790344        1\n",
       "3       597668        1\n",
       "4       794971        1"
      ]
     },
     "execution_count": 111,
     "metadata": {},
     "output_type": "execute_result"
    }
   ],
   "source": [
    "submission.head()"
   ]
  },
  {
   "cell_type": "code",
   "execution_count": 113,
   "id": "f6c1cde2",
   "metadata": {},
   "outputs": [],
   "source": [
    "submission['Outcome'].replace(0, 'Defaulted', inplace=True)\n",
    "submission['Outcome'].replace(1, 'Paid', inplace=True)"
   ]
  },
  {
   "cell_type": "code",
   "execution_count": 114,
   "id": "2d25c5c9",
   "metadata": {},
   "outputs": [],
   "source": [
    "pd.DataFrame(submission, columns = ['Customer ID', 'Outcome']).to_csv('Logistic.csv')"
   ]
  },
  {
   "cell_type": "code",
   "execution_count": 115,
   "id": "2d1c50ee",
   "metadata": {},
   "outputs": [],
   "source": [
    "from sklearn.model_selection import StratifiedKFold"
   ]
  },
  {
   "cell_type": "code",
   "execution_count": 118,
   "id": "9e0fd63a",
   "metadata": {},
   "outputs": [
    {
     "name": "stdout",
     "output_type": "stream",
     "text": [
      "\n",
      "1 of kfold 5 \n"
     ]
    },
    {
     "name": "stderr",
     "output_type": "stream",
     "text": [
      "c:\\users\\aritra marik\\appdata\\local\\programs\\python\\python39\\lib\\site-packages\\sklearn\\linear_model\\_logistic.py:763: ConvergenceWarning: lbfgs failed to converge (status=1):\n",
      "STOP: TOTAL NO. of ITERATIONS REACHED LIMIT.\n",
      "\n",
      "Increase the number of iterations (max_iter) or scale the data as shown in:\n",
      "    https://scikit-learn.org/stable/modules/preprocessing.html\n",
      "Please also refer to the documentation for alternative solver options:\n",
      "    https://scikit-learn.org/stable/modules/linear_model.html#logistic-regression\n",
      "  n_iter_i = _check_optimize_result(\n"
     ]
    },
    {
     "name": "stdout",
     "output_type": "stream",
     "text": [
      "accuracy_score 0.7075\n",
      "\n",
      "2 of kfold 5 \n",
      "accuracy_score 0.585\n",
      "\n",
      "3 of kfold 5 \n",
      "accuracy_score 0.685\n",
      "\n",
      "4 of kfold 5 \n",
      "accuracy_score 0.5825\n",
      "\n",
      "5 of kfold 5 \n",
      "accuracy_score 0.7075\n",
      "\n",
      " Mean Validation Accuracy 0.6535\n"
     ]
    }
   ],
   "source": [
    "i=1\n",
    "mean = 0\n",
    "kf = StratifiedKFold(n_splits=5)\n",
    "for train_index,test_index in kf.split(X,Y):\n",
    " print ('\\n{} of kfold {} '.format(i,kf.n_splits))\n",
    " xtr,xvl = X.loc[train_index],X.loc[test_index]\n",
    " ytr,yvl = Y[train_index],Y[test_index]\n",
    " model = LogisticRegression(random_state=1)\n",
    " model.fit(xtr,ytr)\n",
    " pred_test=model.predict(xvl)\n",
    " score=accuracy_score(yvl,pred_test)\n",
    " mean += score\n",
    " print ('accuracy_score',score)\n",
    " i+=1\n",
    " pred_test = model.predict(test)\n",
    " pred = model.predict_proba(xvl)[:,1]\n",
    "print ('\\n Mean Validation Accuracy',mean/(i-1))"
   ]
  },
  {
   "cell_type": "code",
   "execution_count": 119,
   "id": "e4aa02df",
   "metadata": {},
   "outputs": [
    {
     "data": {
      "image/png": "[encoded data removed]",
      "text/plain": [
       "<Figure size 864x576 with 1 Axes>"
      ]
     },
     "metadata": {
      "needs_background": "light"
     },
     "output_type": "display_data"
    }
   ],
   "source": [
    "from sklearn import metrics\n",
    "fpr, tpr, _ = metrics.roc_curve(yvl, pred)\n",
    "auc = metrics.roc_auc_score(yvl, pred)\n",
    "plt.figure(figsize=(12,8))\n",
    "plt.plot(fpr, tpr, label=\"validation, auc=\" +str(auc))\n",
    "plt.xlabel('False Positive Rate')\n",
    "plt.ylabel('True Positive Rate')\n",
    "plt.legend(loc=4)\n",
    "plt.show()"
   ]
  },
  {
   "cell_type": "code",
   "execution_count": 120,
   "id": "229ac020",
   "metadata": {},
   "outputs": [],
   "source": [
    "submission['Outcome'] = pred_test\n",
    "submission['Customer ID'] = test_original['Customer ID']"
   ]
  },
  {
   "cell_type": "code",
   "execution_count": 121,
   "id": "9030659e",
   "metadata": {},
   "outputs": [],
   "source": [
    "submission['Outcome'].replace(0, 'Defaulted', inplace=True)\n",
    "submission['Outcome'].replace(1, 'Paid', inplace=True)"
   ]
  },
  {
   "cell_type": "code",
   "execution_count": 122,
   "id": "bc219ffb",
   "metadata": {},
   "outputs": [],
   "source": [
    "pd.DataFrame(submission, columns = ['Customer ID', 'Outcome']).to_csv('Logistic.csv')"
   ]
  },
  {
   "cell_type": "code",
   "execution_count": 124,
   "id": "57c2e5b5",
   "metadata": {},
   "outputs": [],
   "source": [
    "X = loanData.drop('Outcome',1)\n",
    "y = loanData.Outcome"
   ]
  },
  {
   "cell_type": "code",
   "execution_count": 125,
   "id": "3f4642a2",
   "metadata": {},
   "outputs": [
    {
     "name": "stdout",
     "output_type": "stream",
     "text": [
      "\n",
      "1 of kfold 5 \n",
      "accuracy_score 0.73\n",
      "\n",
      "2 of kfold 5 \n",
      "accuracy_score 0.6125\n",
      "\n",
      "3 of kfold 5 \n",
      "accuracy_score 0.71\n",
      "\n",
      "4 of kfold 5 \n",
      "accuracy_score 0.595\n",
      "\n",
      "5 of kfold 5 \n",
      "accuracy_score 0.73\n",
      "\n",
      " Mean Validation Accuracy 0.6755\n"
     ]
    }
   ],
   "source": [
    "i=1\n",
    "mean = 0\n",
    "kf = StratifiedKFold(n_splits=5,random_state=1,shuffle=True)\n",
    "for train_index,test_index in kf.split(X,y):\n",
    " print ('\\n{} of kfold {} '.format(i,kf.n_splits))\n",
    " xtr,xvl = X.loc[train_index],X.loc[test_index]\n",
    " ytr,yvl = y[train_index],y[test_index]\n",
    " model = LogisticRegression(random_state=1)\n",
    " model.fit(xtr,ytr)\n",
    " pred_test=model.predict(xvl)\n",
    " score=accuracy_score(yvl,pred_test)\n",
    " mean += score\n",
    " print ('accuracy_score',score)\n",
    " i+=1\n",
    " pred_test = model.predict(test)\n",
    " pred = model.predict_proba(xvl)[:,1]\n",
    "print ('\\n Mean Validation Accuracy',mean/(i-1))"
   ]
  },
  {
   "cell_type": "code",
   "execution_count": 126,
   "id": "dcbe3f4d",
   "metadata": {},
   "outputs": [],
   "source": [
    "submission['Outcome'] = pred_test\n",
    "submission['Customer ID'] = test_original['Customer ID']"
   ]
  },
  {
   "cell_type": "code",
   "execution_count": 127,
   "id": "b6e4ea99",
   "metadata": {},
   "outputs": [],
   "source": [
    "submission['Outcome'].replace(0, 'Defaulted', inplace = True)\n",
    "submission['Outcome'].replace(1, 'Paid', inplace = True)\n"
   ]
  },
  {
   "cell_type": "code",
   "execution_count": 128,
   "id": "61ba8c50",
   "metadata": {},
   "outputs": [],
   "source": [
    "pd.DataFrame(submission, columns = ['Customer ID', 'Outcome']).to_csv('Log2.csv')"
   ]
  },
  {
   "cell_type": "markdown",
   "id": "a20de201",
   "metadata": {},
   "source": [
    "Decision Tree"
   ]
  },
  {
   "cell_type": "code",
   "execution_count": 129,
   "id": "f349cef9",
   "metadata": {},
   "outputs": [
    {
     "name": "stdout",
     "output_type": "stream",
     "text": [
      "\n",
      "1 of kfold 5 \n",
      "accuracy_score 0.755\n",
      "\n",
      "2 of kfold 5 \n",
      "accuracy_score 0.7025\n",
      "\n",
      "3 of kfold 5 \n",
      "accuracy_score 0.75\n",
      "\n",
      "4 of kfold 5 \n",
      "accuracy_score 0.71\n",
      "\n",
      "5 of kfold 5 \n",
      "accuracy_score 0.7725\n",
      "\n",
      " Mean Validation Accuracy 0.738\n"
     ]
    }
   ],
   "source": [
    "from sklearn import tree\n",
    "i = 1\n",
    "mean = 0\n",
    "kf = StratifiedKFold(n_splits=5,random_state=1,shuffle=True)\n",
    "for train_index, test_index in kf.split(X, y):\n",
    "    print ('\\n{} of kfold {} '.format(i,kf.n_splits))\n",
    "    xtr,xvl = X.loc[train_index],X.loc[test_index]\n",
    "    ytr,yvl = y[train_index],y[test_index]\n",
    "    model = tree.DecisionTreeClassifier(random_state=1)\n",
    "    model.fit(xtr,ytr)\n",
    "    pred_test=model.predict(xvl)\n",
    "    score=accuracy_score(yvl,pred_test)\n",
    "    mean += score\n",
    "    print ('accuracy_score',score)\n",
    "    i+=1\n",
    "    pred_test = model.predict(test)\n",
    "    pred = model.predict_proba(xvl)[:,1]\n",
    "print ('\\n Mean Validation Accuracy',mean/(i-1))"
   ]
  },
  {
   "cell_type": "code",
   "execution_count": 130,
   "id": "8e1b14dc",
   "metadata": {},
   "outputs": [],
   "source": [
    "submission['Outcome']=pred_test\n",
    "submission['Customer ID']=test_original['Customer ID']"
   ]
  },
  {
   "cell_type": "code",
   "execution_count": 132,
   "id": "7f5cb6bb",
   "metadata": {},
   "outputs": [],
   "source": [
    "submission['Outcome'].replace(0, 'Defaulted', inplace=True)\n",
    "submission['Outcome'].replace(1, 'Paid', inplace=True)"
   ]
  },
  {
   "cell_type": "code",
   "execution_count": 133,
   "id": "9e5cb768",
   "metadata": {},
   "outputs": [],
   "source": [
    "pd.DataFrame(submission, columns = ['Customer ID', 'Outcome']).to_csv('DecisionTree.csv')"
   ]
  },
  {
   "cell_type": "code",
   "execution_count": 134,
   "id": "388f91b4",
   "metadata": {},
   "outputs": [
    {
     "name": "stdout",
     "output_type": "stream",
     "text": [
      "\n",
      "1 of kfold 5 \n",
      "accuracy_score 0.5925\n",
      "\n",
      "2 of kfold 5 \n",
      "accuracy_score 0.5875\n",
      "\n",
      "3 of kfold 5 \n",
      "accuracy_score 0.615\n",
      "\n",
      "4 of kfold 5 \n",
      "accuracy_score 0.5825\n",
      "\n",
      "5 of kfold 5 \n",
      "accuracy_score 0.665\n",
      "\n",
      " Mean Validation Accuracy 0.6085\n"
     ]
    }
   ],
   "source": [
    "from sklearn.ensemble import RandomForestClassifier\n",
    "i=1\n",
    "mean = 0\n",
    "kf = StratifiedKFold(n_splits=5,random_state=1,shuffle=True)\n",
    "for train_index,test_index in kf.split(X,y):\n",
    " print ('\\n{} of kfold {} '.format(i,kf.n_splits))\n",
    " xtr,xvl = X.loc[train_index],X.loc[test_index]\n",
    " ytr,yvl = y[train_index],y[test_index]\n",
    " model = RandomForestClassifier(random_state=1, max_depth=10)\n",
    " model.fit(xtr,ytr)\n",
    " pred_test=model.predict(xvl)\n",
    " score=accuracy_score(yvl,pred_test)\n",
    " mean += score\n",
    " print ('accuracy_score',score)\n",
    " i+=1\n",
    " pred_test = model.predict(test)\n",
    " pred = model.predict_proba(xvl)[:,1]\n",
    "print ('\\n Mean Validation Accuracy',mean/(i-1))"
   ]
  },
  {
   "cell_type": "code",
   "execution_count": 136,
   "id": "9924e99c",
   "metadata": {},
   "outputs": [
    {
     "name": "stdout",
     "output_type": "stream",
     "text": [
      "\n",
      "1 of kfold 5 \n",
      "accuracy_score 0.56\n",
      "\n",
      "2 of kfold 5 \n",
      "accuracy_score 0.56\n",
      "\n",
      "3 of kfold 5 \n",
      "accuracy_score 0.56\n",
      "\n",
      "4 of kfold 5 \n",
      "accuracy_score 0.5575\n",
      "\n",
      "5 of kfold 5 \n",
      "accuracy_score 0.575\n",
      "\n",
      " Mean Validation Accuracy 0.5625\n"
     ]
    }
   ],
   "source": [
    "from sklearn.model_selection import GridSearchCV\n",
    "paramgrid = {'max_depth': list(range(1,20,2)), 'n_estimators': list(range(1,200,20))}\n",
    "grid_search=GridSearchCV(RandomForestClassifier(random_state=1),paramgrid)\n",
    "from sklearn.model_selection import train_test_split\n",
    "x_train, x_cv, y_train, y_cv = train_test_split(X,y, test_size=0.3, random_state=1)\n",
    "grid_search.fit(x_train,y_train)\n",
    "GridSearchCV(estimator=RandomForestClassifier(random_state=1),\n",
    "             param_grid={'max_depth': [1, 3, 5, 7, 9, 11, 13, 15, 17, 19],\n",
    "                         'n_estimators': [1, 21, 41, 61, 81, 101, 121, 141, 161,\n",
    "                                          181]})\n",
    "grid_search.best_estimator_\n",
    "RandomForestClassifier(max_depth=5, n_estimators=41, random_state=1)\n",
    "i=1\n",
    "mean = 0\n",
    "kf = StratifiedKFold(n_splits=5,random_state=1,shuffle=True)\n",
    "for train_index,test_index in kf.split(X,y):\n",
    "    print ('\\n{} of kfold {} '.format(i,kf.n_splits))\n",
    "    xtr,xvl = X.loc[train_index],X.loc[test_index]\n",
    "    ytr,yvl = y[train_index],y[test_index]\n",
    "    model = RandomForestClassifier(random_state=1, max_depth=3, n_estimators=41)\n",
    "    model.fit(xtr,ytr)\n",
    "    pred_test = model.predict(xvl)\n",
    "    score = accuracy_score(yvl,pred_test)\n",
    "    mean += score\n",
    "    print ('accuracy_score',score)\n",
    "    i+=1\n",
    "    pred_test = model.predict(test)\n",
    "    pred = model.predict_proba(xvl)[:,1]\n",
    "print ('\\n Mean Validation Accuracy',mean/(i-1))"
   ]
  },
  {
   "cell_type": "code",
   "execution_count": 137,
   "id": "717af711",
   "metadata": {},
   "outputs": [],
   "source": [
    "submission['Outcome'] = pred_test\n",
    "submission['Customer ID'] = test_original['Customer ID']"
   ]
  },
  {
   "cell_type": "code",
   "execution_count": 138,
   "id": "dba7b88d",
   "metadata": {},
   "outputs": [],
   "source": [
    "submission['Outcome'].replace(0, 'Defaulted', inplace=True)\n",
    "submission['Outcome'].replace(1, 'Paid', inplace=True)"
   ]
  },
  {
   "cell_type": "code",
   "execution_count": 139,
   "id": "65bf4852",
   "metadata": {},
   "outputs": [],
   "source": [
    "pd.DataFrame(submission, columns = ['Customer ID', 'Outcome']).to_csv('RandomForest.csv')"
   ]
  },
  {
   "cell_type": "code",
   "execution_count": 142,
   "id": "9f749860",
   "metadata": {},
   "outputs": [],
   "source": [
    "# importances=pd.Series(model.feature_importances_, index=X.columns)\n",
    "# importances.plot(kind='barh', figsize=(20,10))"
   ]
  },
  {
   "cell_type": "code",
   "execution_count": null,
   "id": "c87635c5",
   "metadata": {},
   "outputs": [],
   "source": []
  }
 ],
 "metadata": {
  "kernelspec": {
   "display_name": "Python 3",
   "language": "python",
   "name": "python3"
  },
  "language_info": {
   "codemirror_mode": {
    "name": "ipython",
    "version": 3
   },
   "file_extension": ".py",
   "mimetype": "text/x-python",
   "name": "python",
   "nbconvert_exporter": "python",
   "pygments_lexer": "ipython3",
   "version": "3.9.4"
  }
 },
 "nbformat": 4,
 "nbformat_minor": 5
}
